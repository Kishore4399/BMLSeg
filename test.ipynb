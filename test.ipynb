{
 "cells": [
  {
   "cell_type": "code",
   "execution_count": null,
   "metadata": {},
   "outputs": [],
   "source": [
    "import os\n",
    "import glob\n",
    "import cv2\n",
    "import numpy as np"
   ]
  },
  {
   "cell_type": "code",
   "execution_count": 2,
   "metadata": {},
   "outputs": [],
   "source": [
    "weight_path=\"/projectnb/aicv/Shihua_Qin/BMLSeg2D/outputs/Seg_2D_BML_BML2D/ckpts\"\n",
    "model_name= \"UnetPlusPlus_diceCELoss\""
   ]
  },
  {
   "cell_type": "code",
   "execution_count": 6,
   "metadata": {},
   "outputs": [],
   "source": [
    "BML_count = 0\n",
    "for BML_path in BML_paths:\n",
    "    img = cv2.imread(BML_path, cv2.IMREAD_GRAYSCALE)\n",
    "    count = (img > 0).astype(\"int\").sum()\n",
    "    BML_count += count"
   ]
  },
  {
   "cell_type": "code",
   "execution_count": 8,
   "metadata": {},
   "outputs": [
    {
     "data": {
      "text/plain": [
       "22350445"
      ]
     },
     "execution_count": 8,
     "metadata": {},
     "output_type": "execute_result"
    }
   ],
   "source": [
    "bone_count = 0\n",
    "for bone_path in bone_paths:\n",
    "    img = cv2.imread(bone_path, cv2.IMREAD_GRAYSCALE)\n",
    "    count = (img > 0).astype(\"int\").sum()\n",
    "    bone_count += count\n",
    "bone_count"
   ]
  },
  {
   "cell_type": "code",
   "execution_count": 12,
   "metadata": {},
   "outputs": [
    {
     "data": {
      "text/plain": [
       "205721600"
      ]
     },
     "execution_count": 12,
     "metadata": {},
     "output_type": "execute_result"
    }
   ],
   "source": [
    "448*448*1025\n",
    "b : bml: bone = 0.12 : 15: 1 = "
   ]
  },
  {
   "cell_type": "code",
   "execution_count": 22,
   "metadata": {},
   "outputs": [
    {
     "data": {
      "text/plain": [
       "0.0075"
      ]
     },
     "execution_count": 22,
     "metadata": {},
     "output_type": "execute_result"
    }
   ],
   "source": [
    "0.12/ 16"
   ]
  },
  {
   "cell_type": "code",
   "execution_count": 21,
   "metadata": {},
   "outputs": [
    {
     "name": "stdout",
     "output_type": "stream",
     "text": [
      "train data length: 972, validate data length: 243\n"
     ]
    }
   ],
   "source": [
    "import pickle\n",
    "import random\n",
    "pkl_path = \"/projectnb/aicv/Shihua_Qin/BMLSeg2D/dataset/dataset.pickle\"\n",
    "data_path = \"/projectnb/aicv/Shihua_Qin/BMLSeg2D/dataset\"\n",
    "with open(pkl_path, 'rb') as file:\n",
    "                loaded_dic = pickle.load(file)\n",
    "\n",
    "patients = set()\n",
    "data_list = []\n",
    "for dic_tr in loaded_dic['training']:\n",
    "    dic_tr['image'] = os.path.join(data_path, dic_tr['image'])\n",
    "    dic_tr['label'] = os.path.join(data_path, dic_tr['label'])\n",
    "    ID = os.path.split(dic_tr['label'])[-1].split(\"_\")[1][:7]\n",
    "    dic_tr['patient'] = ID\n",
    "    patients.add(ID)\n",
    "    data_list.append(dic_tr)\n",
    "\n",
    "patients = list(patients)\n",
    "\n",
    "random.seed(42)\n",
    "random.shuffle(patients)\n",
    "offset = int(len(patients)*0.8)\n",
    "train_ID = patients[:offset]\n",
    "\n",
    "train_ds, val_ds = [], []\n",
    "for dt in data_list:\n",
    "    if dt['patient'] in train_ID:\n",
    "        train_ds.append(dt)\n",
    "    else:\n",
    "        val_ds.append(dt)\n",
    "\n",
    "print(f\"train data length: {len(train_ds)}, validate data length: {len(val_ds)}\")"
   ]
  },
  {
   "attachments": {},
   "cell_type": "markdown",
   "metadata": {},
   "source": [
    "a = torch.randint(0, 2, (2, 2, 256, 256))\n",
    "b = torch.randint(0, 2, (2, 2, 256, 256))\n",
    "loss = TLoss()"
   ]
  }
 ],
 "metadata": {
  "kernelspec": {
   "display_name": "mae",
   "language": "python",
   "name": "python3"
  },
  "language_info": {
   "codemirror_mode": {
    "name": "ipython",
    "version": 3
   },
   "file_extension": ".py",
   "mimetype": "text/x-python",
   "name": "python",
   "nbconvert_exporter": "python",
   "pygments_lexer": "ipython3",
   "version": "3.8.19"
  },
  "orig_nbformat": 4
 },
 "nbformat": 4,
 "nbformat_minor": 2
}
