{
 "cells": [
  {
   "cell_type": "code",
   "execution_count": 1,
   "metadata": {},
   "outputs": [],
   "source": [
    "import os\n",
    "import numpy as np\n",
    "import glob\n",
    "import cv2\n",
    "from tqdm import tqdm\n",
    "import matplotlib.pyplot as plt\n",
    "from skimage.morphology import closing, disk"
   ]
  },
  {
   "cell_type": "code",
   "execution_count": 2,
   "metadata": {},
   "outputs": [
    {
     "name": "stderr",
     "output_type": "stream",
     "text": [
      "100%|██████████| 4248/4248 [02:05<00:00, 33.77it/s]\n"
     ]
    }
   ],
   "source": [
    "save_dir = \"/projectnb/aicv/Shihua_Qin/BMLSeg2D/dataset/BMLClosing\"\n",
    "file_paths = glob.glob(\"/projectnb/aicv/Shihua_Qin/BMLSeg2D/dataset/*/*.bmp\")\n",
    "with tqdm(total=len(file_paths)) as pbar:\n",
    "    for file_path in file_paths:\n",
    "        file_dir = os.path.join(save_dir, file_path.split(\"/\")[-2])\n",
    "        os.makedirs(file_dir, exist_ok=True)\n",
    "        save_path = os.path.join(save_dir, \"/\".join(file_path.split(\"/\")[-2:]))\n",
    "\n",
    "        img = cv2.imread(file_path, cv2.IMREAD_GRAYSCALE)\n",
    "        if \"labels\" in file_dir:\n",
    "            comb_path = os.path.join(\"/projectnb/aicv/Shihua_Qin/BMLSeg2D/dataset/BMLClosing/comb\", os.path.split(file_path)[-1])\n",
    "            footprint = disk(4)\n",
    "            closed = closing(img, footprint)\n",
    "\n",
    "            smoothed_closed = cv2.GaussianBlur(closed, (5, 5), 0)\n",
    "            _, smoothed_closed = cv2.threshold(smoothed_closed, 127, 255, cv2.THRESH_BINARY)\n",
    "            \n",
    "            smoothed_closed[smoothed_closed>=125] = 255\n",
    "            smoothed_closed[smoothed_closed<125] = 0\n",
    "            \n",
    "            comb = np.concatenate([img, smoothed_closed], axis=1)\n",
    "            cv2.imwrite(save_path, smoothed_closed)\n",
    "            cv2.imwrite(comb_path, comb)\n",
    "        else:\n",
    "            cv2.imwrite(save_path, img)\n",
    "        \n",
    "        pbar.update(1)"
   ]
  },
  {
   "cell_type": "code",
   "execution_count": null,
   "metadata": {},
   "outputs": [],
   "source": [
    "bml_paths = sorted(glob.glob(\"/projectnb/aicv/Shihua_Qin/BMLSeg2D/dataset/BMLClosing/label*/*00.bmp\"))\n",
    "bone_paths = sorted(glob.glob(\"/projectnb/aicv/Shihua_Qin/BMLSeg2D/dataset/BMLClosing/label*/*01.bmp\"))\n",
    "\n",
    "with tqdm(total=len(bml_paths)) as pbar:\n",
    "    for bml_path, bone_path in zip(bml_paths, bone_paths):\n",
    "        bml = cv2.imread(bml_path, cv2.IMREAD_GRAYSCALE)\n",
    "        bone = cv2.imread(bone_path, cv2.IMREAD_GRAYSCALE)\n",
    "        bone_binary = (bone > 125).astype(np.uint8)\n",
    "        modified_bml = np.multiply(bone_binary, bml)\n",
    "        cv2.imwrite(bml_path, modified_bml)\n",
    "        pbar.update(1)"
   ]
  }
 ],
 "metadata": {
  "kernelspec": {
   "display_name": "mae",
   "language": "python",
   "name": "python3"
  },
  "language_info": {
   "codemirror_mode": {
    "name": "ipython",
    "version": 3
   },
   "file_extension": ".py",
   "mimetype": "text/x-python",
   "name": "python",
   "nbconvert_exporter": "python",
   "pygments_lexer": "ipython3",
   "version": "3.8.19"
  },
  "orig_nbformat": 4
 },
 "nbformat": 4,
 "nbformat_minor": 2
}
